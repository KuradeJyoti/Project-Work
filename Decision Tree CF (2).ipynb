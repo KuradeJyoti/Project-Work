{
 "cells": [
  {
   "cell_type": "code",
   "execution_count": 1,
   "id": "ab742cfd",
   "metadata": {},
   "outputs": [
    {
     "name": "stdout",
     "output_type": "stream",
     "text": [
      "Requirement already satisfied: sklearn in c:\\programdata\\anaconda3\\lib\\site-packages (0.0)\n",
      "Requirement already satisfied: scikit-learn in c:\\programdata\\anaconda3\\lib\\site-packages (from sklearn) (0.24.2)\n",
      "Requirement already satisfied: scipy>=0.19.1 in c:\\programdata\\anaconda3\\lib\\site-packages (from scikit-learn->sklearn) (1.7.1)\n",
      "Requirement already satisfied: numpy>=1.13.3 in c:\\programdata\\anaconda3\\lib\\site-packages (from scikit-learn->sklearn) (1.20.3)\n",
      "Requirement already satisfied: joblib>=0.11 in c:\\programdata\\anaconda3\\lib\\site-packages (from scikit-learn->sklearn) (1.1.0)\n",
      "Requirement already satisfied: threadpoolctl>=2.0.0 in c:\\programdata\\anaconda3\\lib\\site-packages (from scikit-learn->sklearn) (2.2.0)\n",
      "Note: you may need to restart the kernel to use updated packages.\n"
     ]
    }
   ],
   "source": [
    "pip install sklearn"
   ]
  },
  {
   "cell_type": "code",
   "execution_count": 1,
   "id": "a26a866d",
   "metadata": {},
   "outputs": [],
   "source": [
    "from sklearn import metrics\n",
    "from sklearn.model_selection import train_test_split\n",
    "from sklearn.tree import DecisionTreeClassifier"
   ]
  },
  {
   "cell_type": "code",
   "execution_count": 2,
   "id": "da99f168",
   "metadata": {
    "scrolled": true
   },
   "outputs": [
    {
     "data": {
      "text/html": [
       "<div>\n",
       "<style scoped>\n",
       "    .dataframe tbody tr th:only-of-type {\n",
       "        vertical-align: middle;\n",
       "    }\n",
       "\n",
       "    .dataframe tbody tr th {\n",
       "        vertical-align: top;\n",
       "    }\n",
       "\n",
       "    .dataframe thead th {\n",
       "        text-align: right;\n",
       "    }\n",
       "</style>\n",
       "<table border=\"1\" class=\"dataframe\">\n",
       "  <thead>\n",
       "    <tr style=\"text-align: right;\">\n",
       "      <th></th>\n",
       "      <th>Electricity</th>\n",
       "      <th>Two_Wheeler</th>\n",
       "      <th>Four_Wheeler</th>\n",
       "      <th>Transportation_vehicle</th>\n",
       "      <th>Mileage_Two_Wheeler</th>\n",
       "      <th>Mileage_Four_Wheeler</th>\n",
       "      <th>Mileage_Transportation_Vehicle</th>\n",
       "      <th>Vehicle_Maintenance</th>\n",
       "      <th>EXP_Grocery</th>\n",
       "      <th>EXP_Clothes</th>\n",
       "      <th>EXP_Newspaper</th>\n",
       "      <th>Mob_recharge</th>\n",
       "      <th>Exp_computer</th>\n",
       "      <th>Exp_TV</th>\n",
       "      <th>Exp_furniture</th>\n",
       "      <th>Insurance</th>\n",
       "      <th>Education_cost</th>\n",
       "      <th>Cost_family_event</th>\n",
       "      <th>Exp_hotel</th>\n",
       "      <th>Carbon_Footprint</th>\n",
       "    </tr>\n",
       "  </thead>\n",
       "  <tbody>\n",
       "    <tr>\n",
       "      <th>0</th>\n",
       "      <td>65</td>\n",
       "      <td>2</td>\n",
       "      <td>1</td>\n",
       "      <td>1</td>\n",
       "      <td>45</td>\n",
       "      <td>15</td>\n",
       "      <td>16</td>\n",
       "      <td>150</td>\n",
       "      <td>4500</td>\n",
       "      <td>300</td>\n",
       "      <td>300</td>\n",
       "      <td>500</td>\n",
       "      <td>0</td>\n",
       "      <td>15000</td>\n",
       "      <td>2000</td>\n",
       "      <td>3000</td>\n",
       "      <td>25000</td>\n",
       "      <td>2500</td>\n",
       "      <td>1500</td>\n",
       "      <td>0</td>\n",
       "    </tr>\n",
       "    <tr>\n",
       "      <th>1</th>\n",
       "      <td>22</td>\n",
       "      <td>1</td>\n",
       "      <td>1</td>\n",
       "      <td>1</td>\n",
       "      <td>50</td>\n",
       "      <td>18</td>\n",
       "      <td>18</td>\n",
       "      <td>200</td>\n",
       "      <td>1500</td>\n",
       "      <td>200</td>\n",
       "      <td>400</td>\n",
       "      <td>500</td>\n",
       "      <td>0</td>\n",
       "      <td>10000</td>\n",
       "      <td>5000</td>\n",
       "      <td>5000</td>\n",
       "      <td>20000</td>\n",
       "      <td>600</td>\n",
       "      <td>600</td>\n",
       "      <td>2</td>\n",
       "    </tr>\n",
       "    <tr>\n",
       "      <th>2</th>\n",
       "      <td>250</td>\n",
       "      <td>1</td>\n",
       "      <td>1</td>\n",
       "      <td>1</td>\n",
       "      <td>55</td>\n",
       "      <td>13</td>\n",
       "      <td>16</td>\n",
       "      <td>1000</td>\n",
       "      <td>1000</td>\n",
       "      <td>500</td>\n",
       "      <td>250</td>\n",
       "      <td>1500</td>\n",
       "      <td>1000</td>\n",
       "      <td>2000</td>\n",
       "      <td>1000</td>\n",
       "      <td>1500</td>\n",
       "      <td>40000</td>\n",
       "      <td>500</td>\n",
       "      <td>2000</td>\n",
       "      <td>2</td>\n",
       "    </tr>\n",
       "    <tr>\n",
       "      <th>3</th>\n",
       "      <td>60</td>\n",
       "      <td>1</td>\n",
       "      <td>0</td>\n",
       "      <td>0</td>\n",
       "      <td>30</td>\n",
       "      <td>0</td>\n",
       "      <td>0</td>\n",
       "      <td>200</td>\n",
       "      <td>1000</td>\n",
       "      <td>1000</td>\n",
       "      <td>400</td>\n",
       "      <td>1200</td>\n",
       "      <td>0</td>\n",
       "      <td>1000</td>\n",
       "      <td>2000</td>\n",
       "      <td>500</td>\n",
       "      <td>0</td>\n",
       "      <td>350</td>\n",
       "      <td>300</td>\n",
       "      <td>0</td>\n",
       "    </tr>\n",
       "    <tr>\n",
       "      <th>4</th>\n",
       "      <td>200</td>\n",
       "      <td>2</td>\n",
       "      <td>1</td>\n",
       "      <td>0</td>\n",
       "      <td>35</td>\n",
       "      <td>20</td>\n",
       "      <td>0</td>\n",
       "      <td>1000</td>\n",
       "      <td>3000</td>\n",
       "      <td>1000</td>\n",
       "      <td>300</td>\n",
       "      <td>800</td>\n",
       "      <td>2000</td>\n",
       "      <td>6000</td>\n",
       "      <td>3000</td>\n",
       "      <td>0</td>\n",
       "      <td>10000</td>\n",
       "      <td>1000</td>\n",
       "      <td>1000</td>\n",
       "      <td>2</td>\n",
       "    </tr>\n",
       "  </tbody>\n",
       "</table>\n",
       "</div>"
      ],
      "text/plain": [
       "   Electricity  Two_Wheeler  Four_Wheeler  Transportation_vehicle  \\\n",
       "0           65            2             1                       1   \n",
       "1           22            1             1                       1   \n",
       "2          250            1             1                       1   \n",
       "3           60            1             0                       0   \n",
       "4          200            2             1                       0   \n",
       "\n",
       "   Mileage_Two_Wheeler  Mileage_Four_Wheeler  Mileage_Transportation_Vehicle  \\\n",
       "0                   45                    15                              16   \n",
       "1                   50                    18                              18   \n",
       "2                   55                    13                              16   \n",
       "3                   30                     0                               0   \n",
       "4                   35                    20                               0   \n",
       "\n",
       "   Vehicle_Maintenance  EXP_Grocery  EXP_Clothes  EXP_Newspaper  Mob_recharge  \\\n",
       "0                  150         4500          300            300           500   \n",
       "1                  200         1500          200            400           500   \n",
       "2                 1000         1000          500            250          1500   \n",
       "3                  200         1000         1000            400          1200   \n",
       "4                 1000         3000         1000            300           800   \n",
       "\n",
       "   Exp_computer  Exp_TV  Exp_furniture  Insurance    Education_cost  \\\n",
       "0             0   15000           2000        3000            25000   \n",
       "1             0   10000           5000        5000            20000   \n",
       "2          1000    2000           1000        1500            40000   \n",
       "3             0    1000           2000         500                0   \n",
       "4          2000    6000           3000           0            10000   \n",
       "\n",
       "   Cost_family_event  Exp_hotel  Carbon_Footprint  \n",
       "0               2500       1500                 0  \n",
       "1                600        600                 2  \n",
       "2                500       2000                 2  \n",
       "3                350        300                 0  \n",
       "4               1000       1000                 2  "
      ]
     },
     "execution_count": 2,
     "metadata": {},
     "output_type": "execute_result"
    }
   ],
   "source": [
    "import pandas as pd\n",
    "jm=pd.read_csv(\"C:/Users/pcc/Desktop/suga.csv\")\n",
    "jm.head()"
   ]
  },
  {
   "cell_type": "code",
   "execution_count": 3,
   "id": "c86a29cd",
   "metadata": {},
   "outputs": [
    {
     "data": {
      "text/plain": [
       "(103, 20)"
      ]
     },
     "execution_count": 3,
     "metadata": {},
     "output_type": "execute_result"
    }
   ],
   "source": [
    "jm.shape"
   ]
  },
  {
   "cell_type": "code",
   "execution_count": 4,
   "id": "35e1e96e",
   "metadata": {},
   "outputs": [
    {
     "data": {
      "text/plain": [
       "Index(['Electricity', 'Two_Wheeler', 'Four_Wheeler', 'Transportation_vehicle',\n",
       "       'Mileage_Two_Wheeler', 'Mileage_Four_Wheeler',\n",
       "       'Mileage_Transportation_Vehicle', 'Vehicle_Maintenance', 'EXP_Grocery',\n",
       "       'EXP_Clothes', 'EXP_Newspaper', 'Mob_recharge', 'Exp_computer',\n",
       "       'Exp_TV', 'Exp_furniture', 'Insurance ', ' Education_cost',\n",
       "       'Cost_family_event', 'Exp_hotel', 'Carbon_Footprint'],\n",
       "      dtype='object')"
      ]
     },
     "execution_count": 4,
     "metadata": {},
     "output_type": "execute_result"
    }
   ],
   "source": [
    "jm.columns"
   ]
  },
  {
   "cell_type": "code",
   "execution_count": 5,
   "id": "3c2e22ed",
   "metadata": {},
   "outputs": [],
   "source": [
    "inputs=jm.iloc[:,:-1]\n",
    "#target=jm['Carbon_Footprint']"
   ]
  },
  {
   "cell_type": "code",
   "execution_count": 6,
   "id": "51000e73",
   "metadata": {},
   "outputs": [
    {
     "data": {
      "text/plain": [
       "Index(['Electricity', 'Two_Wheeler', 'Four_Wheeler', 'Transportation_vehicle',\n",
       "       'Mileage_Two_Wheeler', 'Mileage_Four_Wheeler',\n",
       "       'Mileage_Transportation_Vehicle', 'Vehicle_Maintenance', 'EXP_Grocery',\n",
       "       'EXP_Clothes', 'EXP_Newspaper', 'Mob_recharge', 'Exp_computer',\n",
       "       'Exp_TV', 'Exp_furniture', 'Insurance ', ' Education_cost',\n",
       "       'Cost_family_event', 'Exp_hotel'],\n",
       "      dtype='object')"
      ]
     },
     "execution_count": 6,
     "metadata": {},
     "output_type": "execute_result"
    }
   ],
   "source": [
    "inputs.columns"
   ]
  },
  {
   "cell_type": "code",
   "execution_count": 7,
   "id": "fdfc5b0e",
   "metadata": {},
   "outputs": [],
   "source": [
    "target = jm['Carbon_Footprint']"
   ]
  },
  {
   "cell_type": "code",
   "execution_count": 10,
   "id": "727022a2",
   "metadata": {},
   "outputs": [],
   "source": [
    "feature_col=['Electricity', 'Two_Wheeler', 'Four_Wheeler',\n",
    "       'Transportation_vehicle', 'Mileage_Two_Wheeler', 'Mileage_Four_Wheeler',\n",
    "       'Mileage_Transportation_Vehicle', 'Vehicle_Maintenance',\n",
    "       'EXP_Grocery', 'EXP_Clothes', 'EXP_Newspaper', 'Mob_recharge',\n",
    "       'Exp_computer', 'Exp_TV', 'Exp_furniture', 'Insurance ',\n",
    "       ' Education_cost', 'Cost_family_event', 'Exp_hotel']"
   ]
  },
  {
   "cell_type": "code",
   "execution_count": 11,
   "id": "685f98d6",
   "metadata": {},
   "outputs": [],
   "source": [
    "x=jm[feature_col]"
   ]
  },
  {
   "cell_type": "code",
   "execution_count": 12,
   "id": "88153e3f",
   "metadata": {},
   "outputs": [],
   "source": [
    "y=target"
   ]
  },
  {
   "cell_type": "code",
   "execution_count": 13,
   "id": "1b1ec8f3",
   "metadata": {},
   "outputs": [],
   "source": [
    "x_train,x_test,y_train,y_test=train_test_split(x,y,test_size=0.3,random_state=1)"
   ]
  },
  {
   "cell_type": "code",
   "execution_count": 14,
   "id": "797be960",
   "metadata": {},
   "outputs": [],
   "source": [
    "clf=DecisionTreeClassifier()"
   ]
  },
  {
   "cell_type": "code",
   "execution_count": 15,
   "id": "42c1ff85",
   "metadata": {},
   "outputs": [],
   "source": [
    "clf=clf.fit(x_train,y_train)"
   ]
  },
  {
   "cell_type": "code",
   "execution_count": 16,
   "id": "e49106a9",
   "metadata": {},
   "outputs": [
    {
     "data": {
      "text/plain": [
       "DecisionTreeClassifier()"
      ]
     },
     "execution_count": 16,
     "metadata": {},
     "output_type": "execute_result"
    }
   ],
   "source": [
    "clf"
   ]
  },
  {
   "cell_type": "code",
   "execution_count": 17,
   "id": "b4556a1b",
   "metadata": {},
   "outputs": [],
   "source": [
    "y_pred=clf.predict(x_test)"
   ]
  },
  {
   "cell_type": "code",
   "execution_count": 18,
   "id": "6ab5a261",
   "metadata": {},
   "outputs": [
    {
     "data": {
      "text/plain": [
       "array([0, 2, 0, 2, 0, 0, 2, 2, 2, 2, 0, 0, 2, 2, 2, 0, 0, 0, 0, 0, 0, 0,\n",
       "       0, 2, 2, 0, 2, 0, 0, 2, 2], dtype=int64)"
      ]
     },
     "execution_count": 18,
     "metadata": {},
     "output_type": "execute_result"
    }
   ],
   "source": [
    "y_pred"
   ]
  },
  {
   "cell_type": "code",
   "execution_count": 19,
   "id": "e6efe219",
   "metadata": {},
   "outputs": [],
   "source": [
    "accuracy=metrics.accuracy_score(y_test,y_pred)"
   ]
  },
  {
   "cell_type": "code",
   "execution_count": 20,
   "id": "949664fc",
   "metadata": {},
   "outputs": [
    {
     "data": {
      "text/plain": [
       "0.7096774193548387"
      ]
     },
     "execution_count": 20,
     "metadata": {},
     "output_type": "execute_result"
    }
   ],
   "source": [
    "accuracy"
   ]
  },
  {
   "cell_type": "code",
   "execution_count": 21,
   "id": "2eb1edba",
   "metadata": {},
   "outputs": [],
   "source": [
    "import matplotlib.pyplot as plt\n",
    "%matplotlib inline\n",
    "from sklearn.tree import plot_tree\n"
   ]
  },
  {
   "cell_type": "code",
   "execution_count": 22,
   "id": "d1b9fea9",
   "metadata": {},
   "outputs": [],
   "source": [
    "from sklearn.tree import plot_tree"
   ]
  },
  {
   "cell_type": "code",
   "execution_count": 23,
   "id": "6a50870e",
   "metadata": {},
   "outputs": [
    {
     "data": {
      "text/plain": [
       "<Figure size 3600x3600 with 0 Axes>"
      ]
     },
     "execution_count": 23,
     "metadata": {},
     "output_type": "execute_result"
    },
    {
     "data": {
      "text/plain": [
       "<Figure size 3600x3600 with 0 Axes>"
      ]
     },
     "metadata": {},
     "output_type": "display_data"
    }
   ],
   "source": [
    "plt.figure(figsize=(50,50))\n"
   ]
  },
  {
   "cell_type": "code",
   "execution_count": 24,
   "id": "52c606b9",
   "metadata": {},
   "outputs": [
    {
     "data": {
      "image/png": "[encoded data removed]",
      "text/plain": [
       "<Figure size 432x288 with 1 Axes>"
      ]
     },
     "metadata": {
      "needs_background": "light"
     },
     "output_type": "display_data"
    }
   ],
   "source": [
    "plot_tree(clf,feature_names=feature_col,class_names='Carbon_Footprint',filled=True)\n",
    "plt.show()"
   ]
  },
  {
   "cell_type": "code",
   "execution_count": 25,
   "id": "b762c882",
   "metadata": {},
   "outputs": [],
   "source": [
    "clf=DecisionTreeClassifier(criterion=\"entropy\",max_depth=3)"
   ]
  },
  {
   "cell_type": "code",
   "execution_count": 26,
   "id": "d998be62",
   "metadata": {},
   "outputs": [],
   "source": [
    "clf=clf.fit(x_train,y_train)"
   ]
  },
  {
   "cell_type": "code",
   "execution_count": 27,
   "id": "7a48a560",
   "metadata": {},
   "outputs": [],
   "source": [
    "y_pred=clf.predict(x_test)"
   ]
  },
  {
   "cell_type": "code",
   "execution_count": 28,
   "id": "5a43bd84",
   "metadata": {},
   "outputs": [
    {
     "name": "stdout",
     "output_type": "stream",
     "text": [
      "Accuracy: 0.7096774193548387\n"
     ]
    }
   ],
   "source": [
    "print(\"Accuracy:\",metrics.accuracy_score(y_test,y_pred))"
   ]
  },
  {
   "cell_type": "code",
   "execution_count": null,
   "id": "aa81d619",
   "metadata": {},
   "outputs": [],
   "source": []
  },
  {
   "cell_type": "code",
   "execution_count": 30,
   "id": "8f467d31",
   "metadata": {},
   "outputs": [
    {
     "data": {
      "text/plain": [
       "0.5892556509887896"
      ]
     },
     "execution_count": 30,
     "metadata": {},
     "output_type": "execute_result"
    }
   ],
   "source": [
    "from sklearn.metrics import mean_squared_error\n",
    "from math import sqrt\n",
    "train_preds = clf.predict(x_train)\n",
    "mse = mean_squared_error(y_train, train_preds)\n",
    "rmse = sqrt(mse)\n",
    "rmse"
   ]
  },
  {
   "cell_type": "code",
   "execution_count": 31,
   "id": "31ec08ac",
   "metadata": {},
   "outputs": [
    {
     "data": {
      "text/plain": [
       "0.9837387536759294"
      ]
     },
     "execution_count": 31,
     "metadata": {},
     "output_type": "execute_result"
    }
   ],
   "source": [
    "test_preds = clf.predict(x_test)\n",
    "mse = mean_squared_error(y_test, test_preds)\n",
    "rmse = sqrt(mse)\n",
    "rmse"
   ]
  },
  {
   "cell_type": "code",
   "execution_count": null,
   "id": "2540b3b5",
   "metadata": {},
   "outputs": [],
   "source": []
  }
 ],
 "metadata": {
  "kernelspec": {
   "display_name": "Python 3 (ipykernel)",
   "language": "python",
   "name": "python3"
  },
  "language_info": {
   "codemirror_mode": {
    "name": "ipython",
    "version": 3
   },
   "file_extension": ".py",
   "mimetype": "text/x-python",
   "name": "python",
   "nbconvert_exporter": "python",
   "pygments_lexer": "ipython3",
   "version": "3.9.7"
  }
 },
 "nbformat": 4,
 "nbformat_minor": 5
}
