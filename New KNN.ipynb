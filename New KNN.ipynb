{
 "cells": [
  {
   "cell_type": "code",
   "execution_count": 1,
   "id": "8ed4cebf",
   "metadata": {},
   "outputs": [],
   "source": [
    "import pandas as pd"
   ]
  },
  {
   "cell_type": "code",
   "execution_count": 2,
   "id": "7eba22c5",
   "metadata": {},
   "outputs": [
    {
     "name": "stdout",
     "output_type": "stream",
     "text": [
      "     Electricity  Two_Wheeler  Four_Wheeler  Transportation_vehicle  \\\n",
      "0             65            2             1                       1   \n",
      "1             22            1             1                       1   \n",
      "2            250            1             1                       1   \n",
      "3             60            1             0                       0   \n",
      "4            200            2             1                       0   \n",
      "..           ...          ...           ...                     ...   \n",
      "98            72            2             1                       0   \n",
      "99           200            1             0                       0   \n",
      "100           65            3             0                       0   \n",
      "101          260            2             0                       0   \n",
      "102           60            2             0                       0   \n",
      "\n",
      "     Mileage_Two_Wheeler  Mileage_Four_Wheeler  \\\n",
      "0                     45                    15   \n",
      "1                     50                    18   \n",
      "2                     55                    13   \n",
      "3                     30                     0   \n",
      "4                     35                    20   \n",
      "..                   ...                   ...   \n",
      "98                    45                    18   \n",
      "99                    45                     0   \n",
      "100                   60                     0   \n",
      "101                   50                     0   \n",
      "102                   50                     0   \n",
      "\n",
      "     Mileage_Transportation_Vehicle  Vehicle_Maintenance  EXP_Grocery  \\\n",
      "0                                16                  150         4500   \n",
      "1                                18                  200         1500   \n",
      "2                                16                 1000         1000   \n",
      "3                                 0                  200         1000   \n",
      "4                                 0                 1000         3000   \n",
      "..                              ...                  ...          ...   \n",
      "98                                0                  300         8000   \n",
      "99                                0                  400         1000   \n",
      "100                               0                  500         7500   \n",
      "101                               0                 1000        10000   \n",
      "102                               0                 3000         5000   \n",
      "\n",
      "     EXP_Clothes  EXP_Newspaper  Mob_recharge  Exp_computer  Exp_TV  \\\n",
      "0            300            300           500             0   15000   \n",
      "1            200            400           500             0   10000   \n",
      "2            500            250          1500          1000    2000   \n",
      "3           1000            400          1200             0    1000   \n",
      "4           1000            300           800          2000    6000   \n",
      "..           ...            ...           ...           ...     ...   \n",
      "98          5000            150          1000          2000    4500   \n",
      "99          1000            300           500             0    5000   \n",
      "100          250            150          1000             0    1500   \n",
      "101         5000           2000          2000          5000    5000   \n",
      "102          450            200           800             0    2500   \n",
      "\n",
      "     Exp_furniture  Insurance    Education_cost  Cost_family_event  Exp_hotel  \\\n",
      "0             2000        3000            25000               2500       1500   \n",
      "1             5000        5000            20000                600        600   \n",
      "2             1000        1500            40000                500       2000   \n",
      "3             2000         500                0                350        300   \n",
      "4             3000           0            10000               1000       1000   \n",
      "..             ...         ...              ...                ...        ...   \n",
      "98            3300        1500           150000               2000       4000   \n",
      "99            3600         500            25000                500          0   \n",
      "100           1000        2000            20000               1000        250   \n",
      "101           5000        1000            50000               1000       1000   \n",
      "102           3500         600            25000               4000        350   \n",
      "\n",
      "     Carbon_Footprint  \n",
      "0                   0  \n",
      "1                   2  \n",
      "2                   2  \n",
      "3                   0  \n",
      "4                   2  \n",
      "..                ...  \n",
      "98                  2  \n",
      "99                  0  \n",
      "100                 0  \n",
      "101                 1  \n",
      "102                 0  \n",
      "\n",
      "[103 rows x 20 columns]\n"
     ]
    }
   ],
   "source": [
    "jm=pd.read_csv(\"C:/Users/pcc/Desktop/suga.csv\")\n",
    "print(jm)"
   ]
  },
  {
   "cell_type": "code",
   "execution_count": 3,
   "id": "d5820b83",
   "metadata": {},
   "outputs": [
    {
     "data": {
      "text/plain": [
       "pandas.core.frame.DataFrame"
      ]
     },
     "execution_count": 3,
     "metadata": {},
     "output_type": "execute_result"
    }
   ],
   "source": [
    "type(jm)"
   ]
  },
  {
   "cell_type": "code",
   "execution_count": 4,
   "id": "bb890a22",
   "metadata": {},
   "outputs": [],
   "source": [
    "#jm = jm.drop(\"Carbon_Footprint\", axis=1)"
   ]
  },
  {
   "cell_type": "code",
   "execution_count": 5,
   "id": "f7bc4daa",
   "metadata": {},
   "outputs": [
    {
     "data": {
      "image/png": "[encoded data removed]",
      "text/plain": [
       "<Figure size 432x288 with 1 Axes>"
      ]
     },
     "metadata": {
      "needs_background": "light"
     },
     "output_type": "display_data"
    }
   ],
   "source": [
    "import matplotlib.pyplot as plt\n",
    "jm[\"Carbon_Footprint\"].hist(bins=3)\n",
    "plt.show()"
   ]
  },
  {
   "cell_type": "code",
   "execution_count": 6,
   "id": "9a74ce3a",
   "metadata": {},
   "outputs": [
    {
     "data": {
      "text/plain": [
       "Electricity                       0.063946\n",
       "Two_Wheeler                       0.288917\n",
       "Four_Wheeler                      0.663529\n",
       "Transportation_vehicle            0.083470\n",
       "Mileage_Two_Wheeler               0.181452\n",
       "Mileage_Four_Wheeler              0.668516\n",
       "Mileage_Transportation_Vehicle    0.110105\n",
       "Vehicle_Maintenance               0.053318\n",
       "EXP_Grocery                       0.163034\n",
       "EXP_Clothes                       0.193384\n",
       "EXP_Newspaper                     0.126542\n",
       "Mob_recharge                      0.202247\n",
       "Exp_computer                      0.313200\n",
       "Exp_TV                            0.255938\n",
       "Exp_furniture                     0.230717\n",
       "Insurance                         0.377081\n",
       " Education_cost                   0.292725\n",
       "Cost_family_event                -0.012523\n",
       "Exp_hotel                         0.283818\n",
       "Carbon_Footprint                  1.000000\n",
       "Name: Carbon_Footprint, dtype: float64"
      ]
     },
     "execution_count": 6,
     "metadata": {},
     "output_type": "execute_result"
    }
   ],
   "source": [
    "correlation_matrix = jm.corr()\n",
    "correlation_matrix[\"Carbon_Footprint\"]"
   ]
  },
  {
   "cell_type": "code",
   "execution_count": 7,
   "id": "d1693dbe",
   "metadata": {},
   "outputs": [],
   "source": [
    "X = jm.drop(\"Carbon_Footprint\", axis=1)\n",
    "X = X.values\n",
    "y = jm[\"Carbon_Footprint\"]\n",
    "y = y.values"
   ]
  },
  {
   "cell_type": "code",
   "execution_count": 8,
   "id": "45c16d24",
   "metadata": {},
   "outputs": [],
   "source": [
    "from sklearn.model_selection import train_test_split\n",
    "X_train, X_test, y_train, y_test = train_test_split(X, y, test_size=0.2, random_state=12345)"
   ]
  },
  {
   "cell_type": "code",
   "execution_count": 53,
   "id": "381d194c",
   "metadata": {},
   "outputs": [],
   "source": [
    "from sklearn.neighbors import KNeighborsRegressor\n",
    "knn_model = KNeighborsRegressor(n_neighbors=6)"
   ]
  },
  {
   "cell_type": "code",
   "execution_count": 54,
   "id": "1825feb3",
   "metadata": {},
   "outputs": [
    {
     "data": {
      "text/plain": [
       "KNeighborsRegressor(n_neighbors=6)"
      ]
     },
     "execution_count": 54,
     "metadata": {},
     "output_type": "execute_result"
    }
   ],
   "source": [
    "knn_model.fit(X_train, y_train)"
   ]
  },
  {
   "cell_type": "code",
   "execution_count": 55,
   "id": "5366ac55",
   "metadata": {},
   "outputs": [
    {
     "data": {
      "text/plain": [
       "0.7879942635258163"
      ]
     },
     "execution_count": 55,
     "metadata": {},
     "output_type": "execute_result"
    }
   ],
   "source": [
    "from sklearn.metrics import mean_squared_error\n",
    "from math import sqrt\n",
    "train_preds = knn_model.predict(X_train)\n",
    "mse = mean_squared_error(y_train, train_preds)\n",
    "rmse = sqrt(mse)\n",
    "rmse"
   ]
  },
  {
   "cell_type": "code",
   "execution_count": 56,
   "id": "38ba6af2",
   "metadata": {},
   "outputs": [
    {
     "data": {
      "text/plain": [
       "1.0177004891982149"
      ]
     },
     "execution_count": 56,
     "metadata": {},
     "output_type": "execute_result"
    }
   ],
   "source": [
    "test_preds = knn_model.predict(X_test)\n",
    "mse = mean_squared_error(y_test, test_preds)\n",
    "rmse = sqrt(mse)\n",
    "rmse"
   ]
  },
  {
   "cell_type": "code",
   "execution_count": 57,
   "id": "d070c86c",
   "metadata": {},
   "outputs": [
    {
     "data": {
      "image/png": "[encoded data removed]",
      "text/plain": [
       "<Figure size 432x288 with 2 Axes>"
      ]
     },
     "metadata": {
      "needs_background": "light"
     },
     "output_type": "display_data"
    }
   ],
   "source": [
    "import seaborn as sns\n",
    "cmap = sns.cubehelix_palette(as_cmap=True)\n",
    "f, ax = plt.subplots()\n",
    "points = ax.scatter(X_test[:,-5], X_test[:,-8], c=test_preds, s=50, cmap=cmap)\n",
    "f.colorbar(points)\n",
    "plt.show()"
   ]
  },
  {
   "cell_type": "code",
   "execution_count": 58,
   "id": "44825380",
   "metadata": {},
   "outputs": [
    {
     "data": {
      "image/png": "[encoded data removed]",
      "text/plain": [
       "<Figure size 432x288 with 2 Axes>"
      ]
     },
     "metadata": {
      "needs_background": "light"
     },
     "output_type": "display_data"
    }
   ],
   "source": [
    "cmap = sns.cubehelix_palette(as_cmap=True)\n",
    "f, ax = plt.subplots()\n",
    "points = ax.scatter(X_test[:, -5], X_test[:, -8], c=y_test, s=50, cmap=cmap)\n",
    "f.colorbar(points)\n",
    "plt.show()"
   ]
  },
  {
   "cell_type": "code",
   "execution_count": 59,
   "id": "230f20ed",
   "metadata": {},
   "outputs": [
    {
     "data": {
      "text/plain": [
       "GridSearchCV(estimator=KNeighborsRegressor(),\n",
       "             param_grid={'n_neighbors': range(1, 50),\n",
       "                         'weights': ['uniform', 'distance']})"
      ]
     },
     "execution_count": 59,
     "metadata": {},
     "output_type": "execute_result"
    }
   ],
   "source": [
    "from sklearn.model_selection import GridSearchCV\n",
    "parameters = {\"n_neighbors\": range(1, 50)}\n",
    "gridsearch = GridSearchCV(KNeighborsRegressor(), parameters)\n",
    "gridsearch.fit(X_train, y_train)\n",
    "GridSearchCV(estimator=KNeighborsRegressor(),param_grid={'n_neighbors': range(1, 50),'weights': ['uniform', 'distance']})"
   ]
  },
  {
   "cell_type": "code",
   "execution_count": 60,
   "id": "26bf5eda",
   "metadata": {},
   "outputs": [
    {
     "data": {
      "text/plain": [
       "{'n_neighbors': 25, 'weights': 'distance'}"
      ]
     },
     "execution_count": 60,
     "metadata": {},
     "output_type": "execute_result"
    }
   ],
   "source": [
    "gridsearch.best_params_\n",
    "{'n_neighbors': 25, 'weights': 'distance'}"
   ]
  },
  {
   "cell_type": "code",
   "execution_count": 61,
   "id": "78b102bd",
   "metadata": {},
   "outputs": [
    {
     "data": {
      "text/plain": [
       "0.8751633122856166"
      ]
     },
     "execution_count": 61,
     "metadata": {},
     "output_type": "execute_result"
    }
   ],
   "source": [
    "train_preds_grid = gridsearch.predict(X_train)\n",
    "train_mse = mean_squared_error(y_train, train_preds_grid)\n",
    "train_rmse = sqrt(train_mse)\n",
    "test_preds_grid = gridsearch.predict(X_test)\n",
    "test_mse = mean_squared_error(y_test, test_preds_grid)\n",
    "test_rmse = sqrt(test_mse)\n",
    "train_rmse\n",
    "\n"
   ]
  },
  {
   "cell_type": "code",
   "execution_count": 62,
   "id": "cd34c9dc",
   "metadata": {},
   "outputs": [
    {
     "data": {
      "text/plain": [
       "1.04662510343621"
      ]
     },
     "execution_count": 62,
     "metadata": {},
     "output_type": "execute_result"
    }
   ],
   "source": [
    "test_rmse"
   ]
  },
  {
   "cell_type": "code",
   "execution_count": 63,
   "id": "7e890aaf",
   "metadata": {},
   "outputs": [
    {
     "data": {
      "text/plain": [
       "1.0122562167578182"
      ]
     },
     "execution_count": 63,
     "metadata": {},
     "output_type": "execute_result"
    }
   ],
   "source": [
    "parameters = {\"n_neighbors\": range(1, 50),\n",
    "              \"weights\": [\"uniform\", \"distance\"],}\n",
    "gridsearch = GridSearchCV(KNeighborsRegressor(), parameters)\n",
    "gridsearch.fit(X_train, y_train)\n",
    "GridSearchCV(estimator=KNeighborsRegressor(),\n",
    "             param_grid={'n_neighbors': range(1, 50),\n",
    "                         'weights': ['uniform', 'distance']})\n",
    "gridsearch.best_params_\n",
    "{'n_neighbors': 25, 'weights': 'distance'}\n",
    "test_preds_grid = gridsearch.predict(X_test)\n",
    "test_mse = mean_squared_error(y_test, test_preds_grid)\n",
    "test_rmse = sqrt(test_mse)\n",
    "test_rmse"
   ]
  },
  {
   "cell_type": "code",
   "execution_count": 70,
   "id": "cea8469f",
   "metadata": {},
   "outputs": [],
   "source": [
    "from sklearn.metrics import accuracy_score\n",
    "from sklearn.metrics import classification_report\n",
    "from sklearn.metrics import confusion_matrix\n"
   ]
  },
  {
   "cell_type": "code",
   "execution_count": 72,
   "id": "9861c835",
   "metadata": {},
   "outputs": [],
   "source": [
    "#print(accuracy_score(y_test, test_preds))\n",
    "#print(confusion_matrix(y_test, test_preds))\n",
    "#print(classification_report(y_test, test_preds))\n"
   ]
  },
  {
   "cell_type": "code",
   "execution_count": null,
   "id": "d55f38ee",
   "metadata": {},
   "outputs": [],
   "source": []
  },
  {
   "cell_type": "code",
   "execution_count": null,
   "id": "a3d5d925",
   "metadata": {},
   "outputs": [],
   "source": []
  }
 ],
 "metadata": {
  "kernelspec": {
   "display_name": "Python 3 (ipykernel)",
   "language": "python",
   "name": "python3"
  },
  "language_info": {
   "codemirror_mode": {
    "name": "ipython",
    "version": 3
   },
   "file_extension": ".py",
   "mimetype": "text/x-python",
   "name": "python",
   "nbconvert_exporter": "python",
   "pygments_lexer": "ipython3",
   "version": "3.9.7"
  }
 },
 "nbformat": 4,
 "nbformat_minor": 5
}
